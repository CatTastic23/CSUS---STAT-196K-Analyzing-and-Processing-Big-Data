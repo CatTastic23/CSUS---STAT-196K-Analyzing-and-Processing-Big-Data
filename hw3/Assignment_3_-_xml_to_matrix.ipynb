{
 "cells": [
  {
   "cell_type": "markdown",
   "metadata": {},
   "source": [
    "# Name: Catherine Nguyen \n",
    "March 29th, 2021"
   ]
  },
  {
   "cell_type": "markdown",
   "metadata": {},
   "source": [
    "No where near complete, but i'll continue to work on this so I can prepare for the next assignment.  "
   ]
  },
  {
   "cell_type": "markdown",
   "metadata": {},
   "source": [
    "## Script\n",
    "Write a Julia* script to process the data, including the following steps:\n",
    "\n",
    "Extract from the 2019 IRS 990 data the organization name, one or more text elements that describe the purpose of the organization (description), and one or more elements that can be used as a proxy for size, such as revenue or number of employees.\n",
    "Process the text descriptions that describe each organization using a similar process as described in class.\n",
    "Create and save the term document matrix for the processed text descriptions.\n",
    "* If you want to use another language then you may, but you’re on your own for support."
   ]
  },
  {
   "cell_type": "markdown",
   "metadata": {},
   "source": [
    "    using EzXML \n",
    "    using TextAnalysis\n",
    "\n",
    "    function try_xpath(doc, xpath_strings)\n",
    "        for xpath in xpath_strings\n",
    "            found_node = findfirst(xp, doc)\n",
    "            if !isnothing(found_node)\n",
    "                return found_node\n",
    "            end\n",
    "        end\n",
    "    end"
   ]
  },
  {
   "cell_type": "markdown",
   "metadata": {},
   "source": [
    "## Questions"
   ]
  },
  {
   "cell_type": "markdown",
   "metadata": {},
   "source": [
    "1. How many of the returns were you able to process?\n",
    "2. Show and interpret one explicit example of what you extracted from one tax return, including the text description before and after processing.\n",
    "3. What are the dimensions of your term document matrix?\n",
    "4. How long did your program take to run? (Less than 30 minutes is easily attainable, but no problem if it takes longer, either.)\n",
    "5. Which parts of the program took the longest time to run?"
   ]
  },
  {
   "cell_type": "markdown",
   "metadata": {},
   "source": [
    "## Extra Credit\n",
    "Worth 1 point, but so much glory.\n",
    "\n",
    "Implement an approach to “unsplit” the concatenated words that we saw in the description field.\n",
    "\n",
    " - ANOPERATING should be AN OPERATING\n",
    " - ISLICENSED should be IS LICENSED\n",
    " - ITHOWEVER should be IT HOWEVER\n",
    " - WITHTHE should be WITH THE\n",
    " - and so on."
   ]
  },
  {
   "cell_type": "code",
   "execution_count": null,
   "metadata": {},
   "outputs": [],
   "source": []
  }
 ],
 "metadata": {
  "kernelspec": {
   "display_name": "Julia 1.5.3",
   "language": "julia",
   "name": "julia-1.5"
  },
  "language_info": {
   "file_extension": ".jl",
   "mimetype": "application/julia",
   "name": "julia",
   "version": "1.5.3"
  }
 },
 "nbformat": 4,
 "nbformat_minor": 4
}
